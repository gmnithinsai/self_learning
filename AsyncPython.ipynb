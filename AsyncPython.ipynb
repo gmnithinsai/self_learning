{
 "cells": [
  {
   "cell_type": "markdown",
   "id": "19b6dc36",
   "metadata": {},
   "source": [
    "# <font color = 'blue'>Asynchronous Programming in Python</font>  \n",
    " ---\n",
    "- Asynchronous code just means that the language has a way to tell the computer / program that at some point in the code,\n",
    " it will have to wait for something else to finish somewhere else. Let's say that something else is called \"foo\".So, during that time, the computer can go and do some other work, while \"foo\" finishes.\n",
    "\n",
    "- Then the computer / program will come back every time it has a chance because it's waiting again,\n",
    " or whenever it finished all the work it had at that point. And it will see if any of the tasks it was waiting for have already finished, doing whatever it had to do.\n",
    "\n",
    "- Next, it takes the first task to finish (let's say, our \"foo\" ) and continues whatever it had to do with it.\n",
    "\n",
    "- That \"wait for something else\" normally refers to I/O operations that are relatively \"slow\" (compared to the speed of the processor and the RAM memory),like waiting for:\n",
    " - the data from the client to be sent through the network\n",
    " - the data sent by your program to be received by the client through the network\n",
    " - the contents of a file in the disk to be read by the system and given to your program\n",
    " - the contents your program gave to the system to be written to disk\n",
    " - a remote API operation\n",
    " - a database operation to finish\n",
    " - a database query to return the results etc.\n",
    " \n",
    "- As the execution time is consumed mostly by waiting for I/O operations, they call them \"I/O bound\" operations.\n",
    "\n",
    "- It's called \"asynchronous\" because the computer / program doesn't have to be \"synchronized\" with the slow task, waiting for the exact moment that the task finishes, while doing nothing, to be able to take the task result and continue the work.\n",
    "\n",
    "- Instead of that, by being an \"asynchronous\" system, once finished, the task can wait in line a little bit (some microseconds) for the computer / program to finish whatever it went to do, and then come back to take the results and continue working with them.\n",
    "\n",
    "- For \"synchronous\" (contrary to \"asynchronous\") they commonly also use the term \"sequential\", because the computer / program follows all the steps in sequence before switching to a different task, even if those steps involve waiting."
   ]
  },
  {
   "cell_type": "markdown",
   "id": "81231fea",
   "metadata": {},
   "source": [
    "## <font color = 'blue'>asyncio</font>  \n",
    "\n",
    "(Required python version : 3.7+)\n",
    "\n",
    "- asyncio is a library to write concurrent code using the async/await syntax.\n",
    "\n",
    "- asyncio is used as a foundation for multiple Python asynchronous frameworks that provide high-performance network and web-servers, database connection libraries, distributed task queues, etc.\n",
    "\n",
    "- asyncio is often a perfect fit for IO-bound and high-level structured network code.\n",
    "\n",
    "- asyncio provides a set of high-level APIs to:\n",
    "\n",
    " - run Python coroutines concurrently and have full control over their execution;\n",
    "\n",
    " - perform network IO and IPC;\n",
    "\n",
    " - control subprocesses;\n",
    "\n",
    " - distribute tasks via queues;\n",
    "\n",
    " - synchronize concurrent code;\n",
    "\n",
    "- __async keyword__ : async keyword is used to declare the coroutine.\n",
    "\n",
    "- __await keyword__ : await keyword passes the control back to the event loop. It tells the event loop to execute another instructions, coroutine, etc untill it's completion. Like, In the above example we used await keyword before asyncio.sleep() method to tell the event loop to execute other function func2 until it's completion.\n"
   ]
  },
  {
   "cell_type": "code",
   "execution_count": 1,
   "id": "9b0f58b5",
   "metadata": {},
   "outputs": [
    {
     "data": {
      "text/plain": [
       "<coroutine object main at 0x00000170FE00CC40>"
      ]
     },
     "execution_count": 1,
     "metadata": {},
     "output_type": "execute_result"
    }
   ],
   "source": [
    "import asyncio\n",
    "\n",
    "async def main():\n",
    "    print(\"Hello,\")\n",
    "    await asyncio.sleep(2)\n",
    "    print(\"World!!!!!!!\")\n",
    "    \n",
    "main()\n",
    "    "
   ]
  },
  {
   "cell_type": "markdown",
   "id": "c9d6113d",
   "metadata": {},
   "source": [
    "- In the above code the async key word wraps the main functions and creates a coroutine object, so when you call the main function (async) unlike the normal function it return the coroutine object. To run the coroutine object we need to create an eventloop.\n",
    "\n",
    "- The event loop is the core of every asyncio application. Event loops run asynchronous tasks and callbacks, perform network IO operations, and run subprocesses.\n",
    "\n",
    "- Application developers should typically use the high-level asyncio functions, such as asyncio.run(), and should rarely need to reference the loop object or call its methods\n"
   ]
  },
  {
   "cell_type": "code",
   "execution_count": 2,
   "id": "17995f39",
   "metadata": {},
   "outputs": [
    {
     "ename": "RuntimeError",
     "evalue": "asyncio.run() cannot be called from a running event loop",
     "output_type": "error",
     "traceback": [
      "\u001b[1;31m---------------------------------------------------------------------------\u001b[0m",
      "\u001b[1;31mRuntimeError\u001b[0m                              Traceback (most recent call last)",
      "\u001b[1;32m~\\AppData\\Local\\Temp/ipykernel_1632/3848634406.py\u001b[0m in \u001b[0;36m<module>\u001b[1;34m\u001b[0m\n\u001b[0;32m      6\u001b[0m     \u001b[0mprint\u001b[0m\u001b[1;33m(\u001b[0m\u001b[1;34m\"World!!!!!!!\"\u001b[0m\u001b[1;33m)\u001b[0m\u001b[1;33m\u001b[0m\u001b[1;33m\u001b[0m\u001b[0m\n\u001b[0;32m      7\u001b[0m \u001b[1;33m\u001b[0m\u001b[0m\n\u001b[1;32m----> 8\u001b[1;33m \u001b[0masyncio\u001b[0m\u001b[1;33m.\u001b[0m\u001b[0mrun\u001b[0m\u001b[1;33m(\u001b[0m\u001b[0mmain\u001b[0m\u001b[1;33m(\u001b[0m\u001b[1;33m)\u001b[0m\u001b[1;33m)\u001b[0m\u001b[1;33m\u001b[0m\u001b[1;33m\u001b[0m\u001b[0m\n\u001b[0m\u001b[0;32m      9\u001b[0m \u001b[1;33m\u001b[0m\u001b[0m\n",
      "\u001b[1;32m~\\Anaconda3\\lib\\asyncio\\runners.py\u001b[0m in \u001b[0;36mrun\u001b[1;34m(main, debug)\u001b[0m\n\u001b[0;32m     31\u001b[0m     \"\"\"\n\u001b[0;32m     32\u001b[0m     \u001b[1;32mif\u001b[0m \u001b[0mevents\u001b[0m\u001b[1;33m.\u001b[0m\u001b[0m_get_running_loop\u001b[0m\u001b[1;33m(\u001b[0m\u001b[1;33m)\u001b[0m \u001b[1;32mis\u001b[0m \u001b[1;32mnot\u001b[0m \u001b[1;32mNone\u001b[0m\u001b[1;33m:\u001b[0m\u001b[1;33m\u001b[0m\u001b[1;33m\u001b[0m\u001b[0m\n\u001b[1;32m---> 33\u001b[1;33m         raise RuntimeError(\n\u001b[0m\u001b[0;32m     34\u001b[0m             \"asyncio.run() cannot be called from a running event loop\")\n\u001b[0;32m     35\u001b[0m \u001b[1;33m\u001b[0m\u001b[0m\n",
      "\u001b[1;31mRuntimeError\u001b[0m: asyncio.run() cannot be called from a running event loop"
     ]
    }
   ],
   "source": [
    "import asyncio\n",
    "\n",
    "async def main():\n",
    "    print(\"Hello,\")\n",
    "    await asyncio.sleep(2)\n",
    "    print(\"World!!!!!!!\")\n",
    "    \n",
    "asyncio.run(main())\n",
    "    "
   ]
  },
  {
   "cell_type": "markdown",
   "id": "e1cc4248",
   "metadata": {},
   "source": [
    "However, the asyncio.run() throws runtime error in jupyter notebook but, it actually works if you try in any IDE like VScode. Instead of asyncio.run() we can use await keyword to run the event loop (see below example). please, note that await keyword doesn't work outside of the async function when you are using IDE."
   ]
  },
  {
   "cell_type": "code",
   "execution_count": 1,
   "id": "876fb3f6",
   "metadata": {},
   "outputs": [
    {
     "name": "stdout",
     "output_type": "stream",
     "text": [
      "Hello,\n",
      "World!!!!!!!\n"
     ]
    }
   ],
   "source": [
    "import asyncio\n",
    "\n",
    "async def main():\n",
    "    print(\"Hello,\")\n",
    "    await asyncio.sleep(2)\n",
    "    print(\"World!!!!!!!\")\n",
    "    \n",
    "await main()\n",
    "    "
   ]
  },
  {
   "cell_type": "code",
   "execution_count": 2,
   "id": "b62758e0",
   "metadata": {},
   "outputs": [
    {
     "name": "stdout",
     "output_type": "stream",
     "text": [
      "I am Main\n",
      "I am foo\n",
      "finished\n"
     ]
    }
   ],
   "source": [
    "import asyncio\n",
    "\n",
    "async def main():\n",
    "    print('I am Main')\n",
    "    await foo('I am foo')\n",
    "    print('finished')\n",
    "    \n",
    "async def foo(text):\n",
    "    print(text)\n",
    "    await asyncio.sleep(2)\n",
    "    \n",
    "await main()\n",
    "    \n",
    "    "
   ]
  },
  {
   "cell_type": "markdown",
   "id": "6c079fe7",
   "metadata": {},
   "source": [
    "In the above code though we used await and async still it does the work of synchronous programming. In the main function the second print statement waits untill the foo function gets finished. Let's say when the foo function is doing its work the main function second print statement is executed. To do that we can create tasks, let's see how can we create tasks"
   ]
  },
  {
   "cell_type": "code",
   "execution_count": 3,
   "id": "21759b72",
   "metadata": {},
   "outputs": [
    {
     "name": "stdout",
     "output_type": "stream",
     "text": [
      "I am Main\n",
      "finished\n",
      "I am foo\n"
     ]
    }
   ],
   "source": [
    "async def main():\n",
    "    print('I am Main')\n",
    "    task = asyncio.create_task(foo('I am foo'))\n",
    "    print('finished')\n",
    "    \n",
    "async def foo(text):\n",
    "    print(text)\n",
    "    await asyncio.sleep(2)\n",
    "    \n",
    "await main()\n",
    "    \n",
    "    "
   ]
  },
  {
   "cell_type": "markdown",
   "id": "dcb5d53d",
   "metadata": {},
   "source": [
    "In the above code we created a task before the print statement in the main function, as we want to run it after the completion of main function, to run the task before the foo function we need to await the task using await keyword"
   ]
  },
  {
   "cell_type": "code",
   "execution_count": 4,
   "id": "a5961b6c",
   "metadata": {},
   "outputs": [
    {
     "name": "stdout",
     "output_type": "stream",
     "text": [
      "I am Main\n",
      "I am foo\n",
      "finished\n"
     ]
    }
   ],
   "source": [
    "async def main():\n",
    "    print('I am Main')\n",
    "    task = asyncio.create_task(foo('I am foo'))\n",
    "    await task\n",
    "    print('finished')\n",
    "    \n",
    "async def foo(text):\n",
    "    print(text)\n",
    "    await asyncio.sleep(2)\n",
    "    \n",
    "await main()\n",
    "    \n",
    "    "
   ]
  },
  {
   "cell_type": "code",
   "execution_count": 6,
   "id": "8010aef3",
   "metadata": {},
   "outputs": [
    {
     "name": "stdout",
     "output_type": "stream",
     "text": [
      "I am Main\n",
      "I am foo\n",
      "finished\n"
     ]
    }
   ],
   "source": [
    "async def main():\n",
    "    print('I am Main')\n",
    "    task = asyncio.create_task(foo('I am foo'))\n",
    "    await asyncio.sleep(2)\n",
    "    print('finished')\n",
    "    \n",
    "async def foo(text):\n",
    "    print(text)\n",
    "    await asyncio.sleep(2)\n",
    "    \n",
    "await main()\n",
    "    \n",
    "    "
   ]
  },
  {
   "cell_type": "markdown",
   "id": "596f8f53",
   "metadata": {},
   "source": [
    "In the above code after task is created, we asked to await for 2 seconds, still the foo function got executed without waiting. It's because the main theme behind asyncio is that a task need to be performed when the system is idle, so instead of waiting for 2 seconds it runs the foo function"
   ]
  },
  {
   "cell_type": "code",
   "execution_count": 7,
   "id": "5bf4c006",
   "metadata": {},
   "outputs": [
    {
     "name": "stdout",
     "output_type": "stream",
     "text": [
      "I am Main\n",
      "I am foo\n",
      "finished\n"
     ]
    }
   ],
   "source": [
    "async def main():\n",
    "    print('I am Main')\n",
    "    task = asyncio.create_task(foo('I am foo'))\n",
    "    await asyncio.sleep(0.5)\n",
    "    print('finished')\n",
    "    \n",
    "async def foo(text):\n",
    "    print(text)\n",
    "    await asyncio.sleep(10)\n",
    "    \n",
    "await main()\n",
    "    \n",
    "    "
   ]
  },
  {
   "cell_type": "markdown",
   "id": "8e869207",
   "metadata": {},
   "source": [
    "In the above code in foo function we awaits a sleep for 10 seconds but, instead of that it continues to execute the main function.So using asyncio we can do things concurrently which means we no need to wait for the things to completely done before you can execute something else."
   ]
  },
  {
   "cell_type": "code",
   "execution_count": 9,
   "id": "848c3dec",
   "metadata": {},
   "outputs": [
    {
     "name": "stdout",
     "output_type": "stream",
     "text": [
      "Start fetching\n",
      "0\n",
      "1\n",
      "2\n",
      "3\n",
      "4\n",
      "5\n",
      "6\n",
      "7\n",
      "Done fetching\n",
      "{'data': 1}\n",
      "8\n",
      "9\n"
     ]
    }
   ],
   "source": [
    "async def fetchData():\n",
    "    print(\"Start fetching\")\n",
    "    await asyncio.sleep(2)\n",
    "    print('Done fetching')\n",
    "    return {'data':1}\n",
    "\n",
    "async def printNumbers():\n",
    "    for i in range(10):\n",
    "        print(i)\n",
    "        await asyncio.sleep(0.25)\n",
    "        \n",
    "async def main():\n",
    "    task1 = asyncio.create_task(fetchData())\n",
    "    task2 = asyncio.create_task(printNumbers())\n",
    "    \n",
    "    value = await task1\n",
    "    print(value)\n",
    "    \n",
    "await main()"
   ]
  },
  {
   "cell_type": "markdown",
   "id": "05bf03b5",
   "metadata": {},
   "source": [
    "In the above we have created two tasks in the main function and when the main function got executed the tasks are performed parallelly but, its not like parallely as there is a leisure time while doing task1 it will execute the task2 by utilizing that leisure and appears to be it was done parallelly."
   ]
  },
  {
   "cell_type": "markdown",
   "id": "8d9fdc14",
   "metadata": {},
   "source": [
    "### <font color = 'blue'>Let's see some bascic scenarios using async and await in python</font>"
   ]
  },
  {
   "cell_type": "markdown",
   "id": "4bcb405c",
   "metadata": {},
   "source": [
    "### Scenario 1 :\n",
    "---\n",
    "You are going on a Date with your crush and you have chosen the most beautiful restaurant for the dinner and you guys are ready for the dinner. When waiter came and ask for the dinner you have ordered the most special biryani to make your crush feel special and while the biryani is getting ready with all the spices as it takes time meanwhile, you started beautiful conversation with your crush to impress her and then Biryani came to the table.\n",
    "\n",
    "Let's do this with python using async and await.........."
   ]
  },
  {
   "cell_type": "code",
   "execution_count": 4,
   "id": "9949ee0f",
   "metadata": {},
   "outputs": [
    {
     "name": "stdout",
     "output_type": "stream",
     "text": [
      "Waiter came...\n",
      "You ordered Biryani\n",
      "Biryani came to the table\n"
     ]
    }
   ],
   "source": [
    "import asyncio\n",
    "\n",
    "async def restaurant():\n",
    "    print(\"Waiter came...\")\n",
    "    await order('Biryani')\n",
    "    print(\"Biryani came to the table\")\n",
    "\n",
    "async def order(text):\n",
    "    print(\"You ordered\", text)\n",
    "    await asyncio.sleep(5)\n",
    "    \n",
    "await restaurant()"
   ]
  },
  {
   "cell_type": "markdown",
   "id": "320df243",
   "metadata": {},
   "source": [
    "### Scenario 2:\n",
    "---\n",
    "Let's say you ordered another food item while you are eating biryani and the waiter brings it while you are eating the food.\n",
    "(oops but this interrupted while she is trying to tell you something so you thought of scenario 3 before that let's implement this using async and await in python)."
   ]
  },
  {
   "cell_type": "code",
   "execution_count": 1,
   "id": "5726b616",
   "metadata": {},
   "outputs": [
    {
     "name": "stdout",
     "output_type": "stream",
     "text": [
      "you placed another order immediately and waiting\n",
      "you started eating biryani\n",
      "Your order Nan with paneer butter masala\n",
      "your Biryani is finished\n"
     ]
    }
   ],
   "source": [
    "import asyncio\n",
    "\n",
    "async def restaurant():\n",
    "    print(\"you placed another order immediately and waiting\")\n",
    "    task = asyncio.create_task(order('Nan with paneer butter masala'))\n",
    "    print(\"you started eating biryani\")\n",
    "    await task\n",
    "    print(\"your Biryani is finished\")\n",
    "\n",
    "async def order(text):\n",
    "    await asyncio.sleep(5)\n",
    "    print(\"Your order\", text)\n",
    "    \n",
    "    \n",
    "\n",
    "await restaurant()"
   ]
  },
  {
   "cell_type": "markdown",
   "id": "86636207",
   "metadata": {},
   "source": [
    "### Scenario 3:\n",
    "---\n",
    "As the second scenario didn't work well you thought of advising the waiter to bring the food item, after you guys finishing the biryani. so that your crush will complete what she would like to say, as there is no interruption your crush started telling you that\n",
    "crush: Actually.... I... I.... I love biryani in this restaurant, I visited this restaurant with my boyfriend last week it's really good!\n",
    "\n",
    "She finally said what she wants to say and your order paneer butter masala is ready to serve now.\n",
    "(let's do it with python...)"
   ]
  },
  {
   "cell_type": "code",
   "execution_count": 3,
   "id": "fb00306c",
   "metadata": {},
   "outputs": [
    {
     "name": "stdout",
     "output_type": "stream",
     "text": [
      "you placed another order and ordered waiter to bring after the biryani finished\n",
      "you are eating biryani\n",
      "your Biryani is finished\n",
      "Your order Nan with paneer butter masala ready to serve\n"
     ]
    }
   ],
   "source": [
    "import asyncio\n",
    "\n",
    "async def restaurant():\n",
    "    print(\"you placed another order and ordered waiter to bring after the biryani finished\")\n",
    "    task = asyncio.create_task(order('Nan with paneer butter masala'))\n",
    "    print(\"you are eating biryani\")\n",
    "    print(\"your Biryani is finished\")\n",
    "\n",
    "async def order(text):\n",
    "    await asyncio.sleep(5)\n",
    "    print(\"Your order\", text, 'ready to serve')\n",
    "    \n",
    "\n",
    "await restaurant()"
   ]
  },
  {
   "cell_type": "markdown",
   "id": "4bbd2344",
   "metadata": {},
   "source": [
    "Conclusion : A crush is always a crush for the programmer :)"
   ]
  }
 ],
 "metadata": {
  "kernelspec": {
   "display_name": "Python 3 (ipykernel)",
   "language": "python",
   "name": "python3"
  },
  "language_info": {
   "codemirror_mode": {
    "name": "ipython",
    "version": 3
   },
   "file_extension": ".py",
   "mimetype": "text/x-python",
   "name": "python",
   "nbconvert_exporter": "python",
   "pygments_lexer": "ipython3",
   "version": "3.9.7"
  }
 },
 "nbformat": 4,
 "nbformat_minor": 5
}
