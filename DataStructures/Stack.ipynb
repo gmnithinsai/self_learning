{
 "cells": [
  {
   "cell_type": "markdown",
   "id": "8800fd1c",
   "metadata": {},
   "source": [
    "# Stack Implementation using List in Python"
   ]
  },
  {
   "cell_type": "code",
   "execution_count": 3,
   "id": "3bac4bfd",
   "metadata": {},
   "outputs": [],
   "source": [
    "stack = []\n",
    "stack.append('https://www.google.com/sports')\n",
    "stack.append('https://www.google.com/Cricket')\n",
    "stack.append('https://www.google.com/Indianteam')\n",
    "stack.append('https://www.google.com/Rohit')\n",
    "stack.append('https://www.google.com/Virat')"
   ]
  },
  {
   "cell_type": "code",
   "execution_count": 4,
   "id": "406f9e92",
   "metadata": {},
   "outputs": [
    {
     "data": {
      "text/plain": [
       "['https://www.google.com/sports',\n",
       " 'https://www.google.com/Cricket',\n",
       " 'https://www.google.com/Indianteam',\n",
       " 'https://www.google.com/Rohit',\n",
       " 'https://www.google.com/Virat']"
      ]
     },
     "execution_count": 4,
     "metadata": {},
     "output_type": "execute_result"
    }
   ],
   "source": [
    "stack"
   ]
  },
  {
   "cell_type": "code",
   "execution_count": 5,
   "id": "79212221",
   "metadata": {},
   "outputs": [
    {
     "data": {
      "text/plain": [
       "'https://www.google.com/Virat'"
      ]
     },
     "execution_count": 5,
     "metadata": {},
     "output_type": "execute_result"
    }
   ],
   "source": [
    "stack.pop()"
   ]
  },
  {
   "cell_type": "code",
   "execution_count": 6,
   "id": "4017542a",
   "metadata": {},
   "outputs": [
    {
     "data": {
      "text/plain": [
       "'https://www.google.com/Rohit'"
      ]
     },
     "execution_count": 6,
     "metadata": {},
     "output_type": "execute_result"
    }
   ],
   "source": [
    "stack.pop()"
   ]
  },
  {
   "cell_type": "code",
   "execution_count": 7,
   "id": "00c06a04",
   "metadata": {},
   "outputs": [
    {
     "data": {
      "text/plain": [
       "'https://www.google.com/Indianteam'"
      ]
     },
     "execution_count": 7,
     "metadata": {},
     "output_type": "execute_result"
    }
   ],
   "source": [
    "stack.pop()"
   ]
  },
  {
   "cell_type": "code",
   "execution_count": 8,
   "id": "dcc80d68",
   "metadata": {},
   "outputs": [
    {
     "data": {
      "text/plain": [
       "['https://www.google.com/sports', 'https://www.google.com/Cricket']"
      ]
     },
     "execution_count": 8,
     "metadata": {},
     "output_type": "execute_result"
    }
   ],
   "source": [
    "stack"
   ]
  },
  {
   "cell_type": "markdown",
   "id": "c3f510d6",
   "metadata": {},
   "source": [
    "# Stack implementation using Collections "
   ]
  },
  {
   "cell_type": "code",
   "execution_count": 9,
   "id": "ef956ae7",
   "metadata": {},
   "outputs": [],
   "source": [
    "from collections import deque\n",
    "stack = deque()"
   ]
  },
  {
   "cell_type": "code",
   "execution_count": 10,
   "id": "360cc9d2",
   "metadata": {},
   "outputs": [
    {
     "data": {
      "text/plain": [
       "collections.deque"
      ]
     },
     "execution_count": 10,
     "metadata": {},
     "output_type": "execute_result"
    }
   ],
   "source": [
    "type(stack)"
   ]
  },
  {
   "cell_type": "code",
   "execution_count": 13,
   "id": "707f791b",
   "metadata": {},
   "outputs": [
    {
     "data": {
      "text/plain": [
       "['__add__',\n",
       " '__bool__',\n",
       " '__class__',\n",
       " '__class_getitem__',\n",
       " '__contains__',\n",
       " '__copy__',\n",
       " '__delattr__',\n",
       " '__delitem__',\n",
       " '__dir__',\n",
       " '__doc__',\n",
       " '__eq__',\n",
       " '__format__',\n",
       " '__ge__',\n",
       " '__getattribute__',\n",
       " '__getitem__',\n",
       " '__gt__',\n",
       " '__hash__',\n",
       " '__iadd__',\n",
       " '__imul__',\n",
       " '__init__',\n",
       " '__init_subclass__',\n",
       " '__iter__',\n",
       " '__le__',\n",
       " '__len__',\n",
       " '__lt__',\n",
       " '__mul__',\n",
       " '__ne__',\n",
       " '__new__',\n",
       " '__reduce__',\n",
       " '__reduce_ex__',\n",
       " '__repr__',\n",
       " '__reversed__',\n",
       " '__rmul__',\n",
       " '__setattr__',\n",
       " '__setitem__',\n",
       " '__sizeof__',\n",
       " '__str__',\n",
       " '__subclasshook__',\n",
       " 'append',\n",
       " 'appendleft',\n",
       " 'clear',\n",
       " 'copy',\n",
       " 'count',\n",
       " 'extend',\n",
       " 'extendleft',\n",
       " 'index',\n",
       " 'insert',\n",
       " 'maxlen',\n",
       " 'pop',\n",
       " 'popleft',\n",
       " 'remove',\n",
       " 'reverse',\n",
       " 'rotate']"
      ]
     },
     "execution_count": 13,
     "metadata": {},
     "output_type": "execute_result"
    }
   ],
   "source": [
    "dir(stack)"
   ]
  },
  {
   "cell_type": "code",
   "execution_count": 14,
   "id": "d93d3c58",
   "metadata": {},
   "outputs": [],
   "source": [
    "stack.append('https://www.google.com/sports')\n",
    "stack.append('https://www.google.com/Cricket')\n",
    "stack.append('https://www.google.com/Indianteam')\n",
    "stack.append('https://www.google.com/Rohit')\n",
    "stack.append('https://www.google.com/Virat')"
   ]
  },
  {
   "cell_type": "code",
   "execution_count": 15,
   "id": "c13a8549",
   "metadata": {},
   "outputs": [
    {
     "data": {
      "text/plain": [
       "deque(['https://www.google.com/sports',\n",
       "       'https://www.google.com/Cricket',\n",
       "       'https://www.google.com/Indianteam',\n",
       "       'https://www.google.com/Rohit',\n",
       "       'https://www.google.com/Virat'])"
      ]
     },
     "execution_count": 15,
     "metadata": {},
     "output_type": "execute_result"
    }
   ],
   "source": [
    "stack"
   ]
  },
  {
   "cell_type": "code",
   "execution_count": 17,
   "id": "a214843c",
   "metadata": {},
   "outputs": [
    {
     "data": {
      "text/plain": [
       "'https://www.google.com/Virat'"
      ]
     },
     "execution_count": 17,
     "metadata": {},
     "output_type": "execute_result"
    }
   ],
   "source": [
    "stack.pop()"
   ]
  },
  {
   "cell_type": "code",
   "execution_count": 18,
   "id": "4c44a7d5",
   "metadata": {},
   "outputs": [
    {
     "data": {
      "text/plain": [
       "deque(['https://www.google.com/sports',\n",
       "       'https://www.google.com/Cricket',\n",
       "       'https://www.google.com/Indianteam',\n",
       "       'https://www.google.com/Rohit'])"
      ]
     },
     "execution_count": 18,
     "metadata": {},
     "output_type": "execute_result"
    }
   ],
   "source": [
    "stack"
   ]
  },
  {
   "cell_type": "code",
   "execution_count": 24,
   "id": "ed4c695a",
   "metadata": {},
   "outputs": [],
   "source": [
    "class Stack:\n",
    "    def __init__(self):\n",
    "        self.container = deque()\n",
    "        \n",
    "    def push(self,value):\n",
    "        self.container.append(value)\n",
    "        \n",
    "    def pop(self):\n",
    "        return self.container.pop()\n",
    "    \n",
    "    def peek(self):\n",
    "        return self.container[-1]\n",
    "    \n",
    "    def __len__(self):\n",
    "        return len(self.container)\n",
    "    \n",
    "    def isempty(self):\n",
    "        return len(self) == 0\n",
    "    \n",
    "    def show(self):\n",
    "        return self.container\n",
    "    \n",
    "    \n",
    "s = Stack()"
   ]
  },
  {
   "cell_type": "code",
   "execution_count": 25,
   "id": "ef0ff61d",
   "metadata": {},
   "outputs": [],
   "source": [
    "s.push('https://www.google.com/sports')\n",
    "s.push('https://www.google.com/Cricket')\n",
    "s.push('https://www.google.com/Indianteam')\n",
    "s.push('https://www.google.com/Rohit')\n",
    "s.push('https://www.google.com/Virat')"
   ]
  },
  {
   "cell_type": "code",
   "execution_count": 26,
   "id": "6e42349e",
   "metadata": {},
   "outputs": [
    {
     "data": {
      "text/plain": [
       "deque(['https://www.google.com/sports',\n",
       "       'https://www.google.com/Cricket',\n",
       "       'https://www.google.com/Indianteam',\n",
       "       'https://www.google.com/Rohit',\n",
       "       'https://www.google.com/Virat'])"
      ]
     },
     "execution_count": 26,
     "metadata": {},
     "output_type": "execute_result"
    }
   ],
   "source": [
    "s.show()"
   ]
  },
  {
   "cell_type": "code",
   "execution_count": 27,
   "id": "a0fe62db",
   "metadata": {
    "scrolled": true
   },
   "outputs": [
    {
     "data": {
      "text/plain": [
       "5"
      ]
     },
     "execution_count": 27,
     "metadata": {},
     "output_type": "execute_result"
    }
   ],
   "source": [
    "len(s)"
   ]
  },
  {
   "cell_type": "code",
   "execution_count": 28,
   "id": "87729a88",
   "metadata": {},
   "outputs": [
    {
     "data": {
      "text/plain": [
       "'https://www.google.com/Virat'"
      ]
     },
     "execution_count": 28,
     "metadata": {},
     "output_type": "execute_result"
    }
   ],
   "source": [
    "s.pop()"
   ]
  },
  {
   "cell_type": "code",
   "execution_count": 29,
   "id": "e9ce509c",
   "metadata": {},
   "outputs": [
    {
     "data": {
      "text/plain": [
       "'https://www.google.com/Rohit'"
      ]
     },
     "execution_count": 29,
     "metadata": {},
     "output_type": "execute_result"
    }
   ],
   "source": [
    "s.pop()"
   ]
  },
  {
   "cell_type": "code",
   "execution_count": 30,
   "id": "144ef7ea",
   "metadata": {},
   "outputs": [
    {
     "data": {
      "text/plain": [
       "False"
      ]
     },
     "execution_count": 30,
     "metadata": {},
     "output_type": "execute_result"
    }
   ],
   "source": [
    "s.isempty()"
   ]
  },
  {
   "cell_type": "code",
   "execution_count": 31,
   "id": "dfb7d3f2",
   "metadata": {},
   "outputs": [
    {
     "data": {
      "text/plain": [
       "'https://www.google.com/Indianteam'"
      ]
     },
     "execution_count": 31,
     "metadata": {},
     "output_type": "execute_result"
    }
   ],
   "source": [
    "s.peek()"
   ]
  },
  {
   "cell_type": "code",
   "execution_count": 32,
   "id": "1fe14ec9",
   "metadata": {},
   "outputs": [
    {
     "data": {
      "text/plain": [
       "3"
      ]
     },
     "execution_count": 32,
     "metadata": {},
     "output_type": "execute_result"
    }
   ],
   "source": [
    "len(s)"
   ]
  },
  {
   "cell_type": "code",
   "execution_count": 33,
   "id": "a7f80157",
   "metadata": {},
   "outputs": [
    {
     "data": {
      "text/plain": [
       "'https://www.google.com/sports'"
      ]
     },
     "execution_count": 33,
     "metadata": {},
     "output_type": "execute_result"
    }
   ],
   "source": [
    "s.pop()\n",
    "s.pop()\n",
    "s.pop()"
   ]
  },
  {
   "cell_type": "code",
   "execution_count": 34,
   "id": "4e2d3280",
   "metadata": {},
   "outputs": [
    {
     "data": {
      "text/plain": [
       "0"
      ]
     },
     "execution_count": 34,
     "metadata": {},
     "output_type": "execute_result"
    }
   ],
   "source": [
    "len(s)"
   ]
  },
  {
   "cell_type": "markdown",
   "id": "215aa4b1",
   "metadata": {},
   "source": [
    "#### Reverse a string using Stack"
   ]
  },
  {
   "cell_type": "code",
   "execution_count": 37,
   "id": "ccaedec1",
   "metadata": {},
   "outputs": [
    {
     "name": "stdout",
     "output_type": "stream",
     "text": [
      "kcats\n"
     ]
    }
   ],
   "source": [
    "def reverse(string):\n",
    "    s = Stack()\n",
    "    for char in string:\n",
    "        s.push(char)\n",
    "        \n",
    "    rstr = ''\n",
    "    while len(s)!=0:\n",
    "        rstr+=s.pop()\n",
    "        \n",
    "    return rstr\n",
    "\n",
    "if __name__ == '__main__':\n",
    "    print(reverse('stack'))"
   ]
  },
  {
   "cell_type": "markdown",
   "id": "cc4d64f8",
   "metadata": {},
   "source": [
    "# Stack Implementation using single linkedlist"
   ]
  },
  {
   "cell_type": "code",
   "execution_count": 17,
   "id": "3ce34ef5",
   "metadata": {},
   "outputs": [],
   "source": [
    "class Node:\n",
    "    def __init__(self, data, next):\n",
    "        self.data = data\n",
    "        self.next = next\n",
    "        \n",
    "class Stack:\n",
    "    def __init__(self):\n",
    "        self.head = None\n",
    "        \n",
    "    def push(self, data):\n",
    "        node = Node(data, self.head)\n",
    "        self.head = node\n",
    "        \n",
    "    def pop(self):\n",
    "        self.head = self.head.next\n",
    "            \n",
    "    def printStack(self):\n",
    "        itr = self.head\n",
    "        while itr:\n",
    "            print(itr.data,'-> ', end = '')\n",
    "            itr = itr.next\n",
    "s = Stack()\n",
    "\n",
    "            "
   ]
  },
  {
   "cell_type": "code",
   "execution_count": 18,
   "id": "f860ed15",
   "metadata": {},
   "outputs": [],
   "source": [
    "s.push(1)\n",
    "s.push(2)\n",
    "s.push(3)\n",
    "s.push(4)"
   ]
  },
  {
   "cell_type": "code",
   "execution_count": 19,
   "id": "d47dd192",
   "metadata": {
    "scrolled": true
   },
   "outputs": [
    {
     "name": "stdout",
     "output_type": "stream",
     "text": [
      "4 -> 3 -> 2 -> 1 -> "
     ]
    }
   ],
   "source": [
    "s.printStack()"
   ]
  },
  {
   "cell_type": "code",
   "execution_count": 20,
   "id": "7d42dcb3",
   "metadata": {},
   "outputs": [],
   "source": [
    "s.pop()"
   ]
  },
  {
   "cell_type": "code",
   "execution_count": 21,
   "id": "8635187a",
   "metadata": {},
   "outputs": [
    {
     "name": "stdout",
     "output_type": "stream",
     "text": [
      "3 -> 2 -> 1 -> "
     ]
    }
   ],
   "source": [
    "s.printStack()"
   ]
  }
 ],
 "metadata": {
  "kernelspec": {
   "display_name": "Python 3 (ipykernel)",
   "language": "python",
   "name": "python3"
  },
  "language_info": {
   "codemirror_mode": {
    "name": "ipython",
    "version": 3
   },
   "file_extension": ".py",
   "mimetype": "text/x-python",
   "name": "python",
   "nbconvert_exporter": "python",
   "pygments_lexer": "ipython3",
   "version": "3.9.7"
  }
 },
 "nbformat": 4,
 "nbformat_minor": 5
}
