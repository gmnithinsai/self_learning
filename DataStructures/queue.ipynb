{
 "cells": [
  {
   "cell_type": "markdown",
   "id": "a9f5dcdd",
   "metadata": {},
   "source": [
    "# Queue in Python\n",
    "---\n",
    "Like stack, queue is a linear data structure that stores items in First In First Out (FIFO) manner. With a queue the least recently added item is removed first. A good example of queue is any queue of consumers for a resource where the consumer that came first is served first.\n",
    "\n",
    "---\n",
    "Operations associated with queue are: \n",
    " \n",
    "\n",
    "- Enqueue: Adds an item to the queue. If the queue is full, then it is said to be an Overflow condition – Time Complexity : O(1)\n",
    "- Dequeue: Removes an item from the queue. The items are popped in the same order in which they are pushed. If the queue is empty, then it is said to be an Underflow condition – Time Complexity : O(1)\n",
    "- Front: Get the front item from queue – Time Complexity : O(1)\n",
    "- Rear: Get the last item from queue – Time Complexity : O(1)\n",
    " "
   ]
  },
  {
   "cell_type": "markdown",
   "id": "9959eca6",
   "metadata": {},
   "source": [
    "## Queue Implementation using Lists"
   ]
  },
  {
   "cell_type": "code",
   "execution_count": 3,
   "id": "6fd31cda",
   "metadata": {},
   "outputs": [
    {
     "data": {
      "text/plain": [
       "[2, 3]"
      ]
     },
     "execution_count": 3,
     "metadata": {},
     "output_type": "execute_result"
    }
   ],
   "source": [
    "a = [1,2,3]\n",
    "a.remove(a[0])\n",
    "a"
   ]
  },
  {
   "cell_type": "code",
   "execution_count": 6,
   "id": "1df637c7",
   "metadata": {},
   "outputs": [],
   "source": [
    "class Queue:\n",
    "    \n",
    "    def __init__(self):\n",
    "        self.queue = []\n",
    "        \n",
    "    def enqueue(self, ele):\n",
    "        self.queue.insert(0,ele)\n",
    "        \n",
    "    def dequeue(self):\n",
    "        self.queue.remove(self.queue[0])\n",
    "        \n",
    "    def front(self):\n",
    "        return self.queue[0]\n",
    "    \n",
    "    def rear(self):\n",
    "        return self.queue[-1]\n",
    "    \n",
    "    def printq(self):\n",
    "        return self.queue\n",
    "\n",
    "q = Queue()    "
   ]
  },
  {
   "cell_type": "code",
   "execution_count": 7,
   "id": "c81bbe85",
   "metadata": {},
   "outputs": [
    {
     "data": {
      "text/plain": [
       "['mango', 'banana', 'orange', 'apple']"
      ]
     },
     "execution_count": 7,
     "metadata": {},
     "output_type": "execute_result"
    }
   ],
   "source": [
    "q.enqueue('apple')\n",
    "q.enqueue('orange')\n",
    "q.enqueue('banana')\n",
    "q.enqueue('mango')\n",
    "\n",
    "q.printq()"
   ]
  },
  {
   "cell_type": "code",
   "execution_count": 8,
   "id": "a53e7c10",
   "metadata": {},
   "outputs": [
    {
     "data": {
      "text/plain": [
       "['banana', 'orange', 'apple']"
      ]
     },
     "execution_count": 8,
     "metadata": {},
     "output_type": "execute_result"
    }
   ],
   "source": [
    "q.dequeue()\n",
    "q.printq()"
   ]
  },
  {
   "cell_type": "code",
   "execution_count": 10,
   "id": "06040d21",
   "metadata": {},
   "outputs": [
    {
     "data": {
      "text/plain": [
       "'apple'"
      ]
     },
     "execution_count": 10,
     "metadata": {},
     "output_type": "execute_result"
    }
   ],
   "source": [
    "q.rear()"
   ]
  },
  {
   "cell_type": "code",
   "execution_count": 11,
   "id": "a2b591b5",
   "metadata": {},
   "outputs": [
    {
     "data": {
      "text/plain": [
       "'banana'"
      ]
     },
     "execution_count": 11,
     "metadata": {},
     "output_type": "execute_result"
    }
   ],
   "source": [
    "q.front()"
   ]
  },
  {
   "cell_type": "markdown",
   "id": "3466ee4a",
   "metadata": {},
   "source": [
    "## Queue implementation using collections.queue"
   ]
  },
  {
   "cell_type": "code",
   "execution_count": 2,
   "id": "f03463d8",
   "metadata": {},
   "outputs": [],
   "source": [
    "from collections import deque\n",
    "\n",
    "class Queue:\n",
    "    \n",
    "    def __init__(self):\n",
    "        self.container = deque()\n",
    "        \n",
    "    def enqueue(self, ele):\n",
    "        self.container.append(ele)\n",
    "        \n",
    "    def dequeue(self):\n",
    "        self.container.popleft()\n",
    "        \n",
    "    def printq(self):\n",
    "        return self.container\n",
    "    \n",
    "q = Queue() "
   ]
  },
  {
   "cell_type": "code",
   "execution_count": 3,
   "id": "4b01a743",
   "metadata": {},
   "outputs": [],
   "source": [
    "q.enqueue(1)\n",
    "q.enqueue(2)\n",
    "q.enqueue(3)\n",
    "q.enqueue(4)"
   ]
  },
  {
   "cell_type": "code",
   "execution_count": 4,
   "id": "0dc5a15d",
   "metadata": {},
   "outputs": [
    {
     "data": {
      "text/plain": [
       "deque([1, 2, 3, 4])"
      ]
     },
     "execution_count": 4,
     "metadata": {},
     "output_type": "execute_result"
    }
   ],
   "source": [
    "q.printq()"
   ]
  },
  {
   "cell_type": "code",
   "execution_count": 5,
   "id": "f000fb2e",
   "metadata": {},
   "outputs": [],
   "source": [
    "q.dequeue()"
   ]
  },
  {
   "cell_type": "code",
   "execution_count": 6,
   "id": "e26594ba",
   "metadata": {},
   "outputs": [
    {
     "data": {
      "text/plain": [
       "deque([2, 3, 4])"
      ]
     },
     "execution_count": 6,
     "metadata": {},
     "output_type": "execute_result"
    }
   ],
   "source": [
    "q.printq()"
   ]
  },
  {
   "cell_type": "code",
   "execution_count": 23,
   "id": "3d7d09d6",
   "metadata": {},
   "outputs": [],
   "source": [
    "from queue import Queue\n",
    "\n",
    "class QueueBlock:\n",
    "    \n",
    "    def __init__(self):\n",
    "        self.container = Queue(maxsize = 4)\n",
    "        \n",
    "    def enqueue(self, ele):\n",
    "        self.container.put(ele)\n",
    "        \n",
    "    def dequeue(self):\n",
    "        self.container.get()\n",
    "        \n",
    "    def is_empty(self):\n",
    "        return self.container.empty()\n",
    "    \n",
    "    def is_full(self):\n",
    "        return self.container.full()\n",
    "        \n",
    "    def printq(self):\n",
    "        return self.container\n",
    "    \n",
    "    def size(self):\n",
    "        return self.container.qsize()\n",
    "    \n",
    "q = QueueBlock() "
   ]
  },
  {
   "cell_type": "code",
   "execution_count": 24,
   "id": "1ad1fdfb",
   "metadata": {},
   "outputs": [
    {
     "data": {
      "text/plain": [
       "True"
      ]
     },
     "execution_count": 24,
     "metadata": {},
     "output_type": "execute_result"
    }
   ],
   "source": [
    "q.is_empty()"
   ]
  },
  {
   "cell_type": "code",
   "execution_count": 25,
   "id": "eea7e96d",
   "metadata": {},
   "outputs": [
    {
     "data": {
      "text/plain": [
       "False"
      ]
     },
     "execution_count": 25,
     "metadata": {},
     "output_type": "execute_result"
    }
   ],
   "source": [
    "q.is_full()"
   ]
  },
  {
   "cell_type": "code",
   "execution_count": 26,
   "id": "8f39aa7e",
   "metadata": {},
   "outputs": [],
   "source": [
    "q.enqueue('red')\n",
    "q.enqueue('green')\n",
    "q.enqueue('blue')\n",
    "q.enqueue('yellow')"
   ]
  },
  {
   "cell_type": "code",
   "execution_count": 27,
   "id": "6c26eba5",
   "metadata": {},
   "outputs": [
    {
     "data": {
      "text/plain": [
       "4"
      ]
     },
     "execution_count": 27,
     "metadata": {},
     "output_type": "execute_result"
    }
   ],
   "source": [
    "q.size()"
   ]
  },
  {
   "cell_type": "code",
   "execution_count": 28,
   "id": "67505df4",
   "metadata": {},
   "outputs": [
    {
     "data": {
      "text/plain": [
       "<queue.Queue at 0x25506102250>"
      ]
     },
     "execution_count": 28,
     "metadata": {},
     "output_type": "execute_result"
    }
   ],
   "source": [
    "q.printq()"
   ]
  },
  {
   "cell_type": "code",
   "execution_count": 29,
   "id": "237d4058",
   "metadata": {},
   "outputs": [],
   "source": [
    "q.dequeue()"
   ]
  },
  {
   "cell_type": "code",
   "execution_count": 30,
   "id": "5e6964de",
   "metadata": {},
   "outputs": [
    {
     "data": {
      "text/plain": [
       "3"
      ]
     },
     "execution_count": 30,
     "metadata": {},
     "output_type": "execute_result"
    }
   ],
   "source": [
    "q.size()"
   ]
  },
  {
   "cell_type": "markdown",
   "id": "6e8679fb",
   "metadata": {},
   "source": [
    "## Queue Implementation using Linked list"
   ]
  },
  {
   "cell_type": "code",
   "execution_count": 55,
   "id": "94f448d0",
   "metadata": {},
   "outputs": [],
   "source": [
    "class Node:\n",
    "    def __init__(self, data, next):\n",
    "        self.data = data\n",
    "        self.next = next\n",
    "        \n",
    "class LinkedList:\n",
    "    def __init__(self):\n",
    "        self.head = None\n",
    "        \n",
    "    def enqueue(self, ele):\n",
    "        node = Node(ele, self.head)\n",
    "        self.head = node\n",
    "        \n",
    "    def dequeue(self):\n",
    "        self.head = self.head.next\n",
    "        \n",
    "    def printq(self):\n",
    "        itr = self.head\n",
    "        while itr:\n",
    "            print(itr.data, '-> ', end = ' ')\n",
    "            itr = itr.next\n",
    "            \n",
    "queue = LinkedList()"
   ]
  },
  {
   "cell_type": "code",
   "execution_count": 56,
   "id": "18c40ed2",
   "metadata": {},
   "outputs": [],
   "source": [
    "queue.enqueue('bangalore')\n",
    "queue.enqueue('mumbai')\n",
    "queue.enqueue('pune')\n",
    "queue.enqueue('hyderabad')"
   ]
  },
  {
   "cell_type": "code",
   "execution_count": 57,
   "id": "7dd59bdf",
   "metadata": {},
   "outputs": [
    {
     "name": "stdout",
     "output_type": "stream",
     "text": [
      "hyderabad ->  pune ->  mumbai ->  bangalore ->  "
     ]
    }
   ],
   "source": [
    "queue.printq()"
   ]
  },
  {
   "cell_type": "code",
   "execution_count": 58,
   "id": "028925b0",
   "metadata": {},
   "outputs": [],
   "source": [
    "queue.dequeue()"
   ]
  },
  {
   "cell_type": "code",
   "execution_count": 59,
   "id": "330d6711",
   "metadata": {},
   "outputs": [
    {
     "name": "stdout",
     "output_type": "stream",
     "text": [
      "pune ->  mumbai ->  bangalore ->  "
     ]
    }
   ],
   "source": [
    "queue.printq()"
   ]
  }
 ],
 "metadata": {
  "kernelspec": {
   "display_name": "Python 3 (ipykernel)",
   "language": "python",
   "name": "python3"
  },
  "language_info": {
   "codemirror_mode": {
    "name": "ipython",
    "version": 3
   },
   "file_extension": ".py",
   "mimetype": "text/x-python",
   "name": "python",
   "nbconvert_exporter": "python",
   "pygments_lexer": "ipython3",
   "version": "3.9.7"
  }
 },
 "nbformat": 4,
 "nbformat_minor": 5
}
