{
 "cells": [
  {
   "cell_type": "markdown",
   "id": "e8fd242f",
   "metadata": {},
   "source": [
    "# LinkedList Implementation using Python\n",
    "---"
   ]
  },
  {
   "cell_type": "code",
   "execution_count": 71,
   "id": "23f36cbe",
   "metadata": {},
   "outputs": [],
   "source": [
    "# Node class\n",
    "class Node:\n",
    "    def __init__(self, data, next = None):\n",
    "        self.data = data\n",
    "        self.next = next\n",
    "\n",
    "# Linked list class\n",
    "class LinkedList:\n",
    "    def __init__(self):\n",
    "        self.head = None\n",
    "        \n",
    "    def insert_at_beginning(self, data):\n",
    "        node = Node(data, self.head)\n",
    "        self.head = node\n",
    "        \n",
    "    def insert_at_end(self, data):\n",
    "        if self.head is None:\n",
    "            node = Node(data, self.head)\n",
    "            self.head = node\n",
    "        else:\n",
    "            itr = self.head\n",
    "            while itr.next:\n",
    "                itr = itr.next\n",
    "            itr.next = Node(data, None)\n",
    "            \n",
    "    def list_to_linkedlist(self, data):\n",
    "        for item in data:\n",
    "            self.insert_at_end(item)\n",
    "    \n",
    "    def length_of_linkedlist(self):\n",
    "        itr = self.head\n",
    "        if itr is None:\n",
    "            print(0)\n",
    "        else:\n",
    "            count = 1\n",
    "            while itr.next:\n",
    "                count+=1\n",
    "                itr = itr.next\n",
    "        print('length of linkedlist:',count)\n",
    "        \n",
    "    def replace_value_in_linkedlist(self, i_value, data):\n",
    "        itr = self.head\n",
    "        if itr is None:\n",
    "            print('Linked LIst is empty')\n",
    "        else:\n",
    "            count = 1\n",
    "            while count != i_value:\n",
    "                count+=1\n",
    "                itr = itr.next\n",
    "            itr.next = Node(data, itr.next)\n",
    "        print(f\"replace with value {data} at index {i_value}:\")\n",
    "    \n",
    "    def remove_at(self, i_value):\n",
    "        itr = self.head\n",
    "        count = 0\n",
    "        if itr is None:\n",
    "            print(\"Empty LInked list\")\n",
    "        elif i_value == 0:\n",
    "            self.head = self.head.next\n",
    "        else:\n",
    "            while itr:\n",
    "                if count == i_value-1:\n",
    "                    itr.next = itr.next.next\n",
    "                    break\n",
    "                itr = itr.next\n",
    "                count+=1\n",
    "        print(f\"Remove at index {i_value}:\")\n",
    "            \n",
    "    def insert_at_middle(self, pos, data):\n",
    "        itr = self.head\n",
    "        if pos == 0:\n",
    "            self.insert_at_beginning(data)\n",
    "        else:\n",
    "            count = 1\n",
    "            while itr:\n",
    "                if count == pos:\n",
    "                    node = Node(data, itr.next)\n",
    "                    itr.next = node\n",
    "                    break\n",
    "                itr =itr.next\n",
    "                count+=1\n",
    "        print(f\"Insert {data} at index {pos}:\")\n",
    "        \n",
    "    def insert_at_aftervalue(self, data, newitem):\n",
    "        itr = self.head\n",
    "        while itr:\n",
    "            if itr.data == data:\n",
    "                node = Node(newitem, itr.next)\n",
    "                itr.next = node\n",
    "                break\n",
    "            itr = itr.next\n",
    "        print(f\"Insert value {newitem} after the value {data}: \")\n",
    "        \n",
    "    def print_linkedlist(self):\n",
    "        if self.head is None:\n",
    "            print(\"Empty Linked list\")\n",
    "        else:\n",
    "            itr = self.head\n",
    "            while itr:\n",
    "                print(itr.data,'--> ', end = '')\n",
    "                itr = itr.next\n",
    "        print()\n",
    "                \n",
    "if __name__ == '__main__':\n",
    "    ll = LinkedList()"
   ]
  },
  {
   "cell_type": "markdown",
   "id": "1a94c9a4",
   "metadata": {},
   "source": [
    "#### Insert value at beginning of the linkedlist"
   ]
  },
  {
   "cell_type": "code",
   "execution_count": 72,
   "id": "b3331b8d",
   "metadata": {},
   "outputs": [
    {
     "name": "stdout",
     "output_type": "stream",
     "text": [
      "12 --> 11 --> 10 --> \n"
     ]
    }
   ],
   "source": [
    "ll.insert_at_beginning(10)\n",
    "ll.insert_at_beginning(11)\n",
    "ll.insert_at_beginning(12)\n",
    "ll.print_linkedlist()\n"
   ]
  },
  {
   "cell_type": "markdown",
   "id": "d7ac4656",
   "metadata": {},
   "source": [
    "#### Insert value at the end of linkedlist"
   ]
  },
  {
   "cell_type": "code",
   "execution_count": 63,
   "id": "8de22e08",
   "metadata": {},
   "outputs": [
    {
     "name": "stdout",
     "output_type": "stream",
     "text": [
      "12 --> 11 --> 10 --> 9 --> \n"
     ]
    }
   ],
   "source": [
    "ll.insert_at_end(9)\n",
    "ll.print_linkedlist()"
   ]
  },
  {
   "cell_type": "markdown",
   "id": "3ead06ca",
   "metadata": {},
   "source": [
    "#### Create Linked list with list of data"
   ]
  },
  {
   "cell_type": "code",
   "execution_count": 64,
   "id": "f1ced934",
   "metadata": {},
   "outputs": [
    {
     "name": "stdout",
     "output_type": "stream",
     "text": [
      "12 --> 11 --> 10 --> 9 --> 1 --> 2 --> 3 --> \n"
     ]
    }
   ],
   "source": [
    "ll.list_to_linkedlist([1,2,3])\n",
    "ll.print_linkedlist()"
   ]
  },
  {
   "cell_type": "markdown",
   "id": "9c6e4030",
   "metadata": {},
   "source": [
    "#### Get the length of linkedlist"
   ]
  },
  {
   "cell_type": "code",
   "execution_count": 65,
   "id": "82f68420",
   "metadata": {},
   "outputs": [
    {
     "name": "stdout",
     "output_type": "stream",
     "text": [
      "length of linkedlist: 7\n"
     ]
    }
   ],
   "source": [
    "ll.length_of_linkedlist()   \n",
    "    \n",
    "    "
   ]
  },
  {
   "cell_type": "markdown",
   "id": "bafeb4a8",
   "metadata": {},
   "source": [
    "#### Replace value in the linkedlist"
   ]
  },
  {
   "cell_type": "code",
   "execution_count": 66,
   "id": "aadd41a4",
   "metadata": {},
   "outputs": [
    {
     "name": "stdout",
     "output_type": "stream",
     "text": [
      "replace with value 3 at index 3:\n",
      "12 --> 11 --> 10 --> 3 --> 9 --> 1 --> 2 --> 3 --> \n"
     ]
    }
   ],
   "source": [
    "ll.replace_value_in_linkedlist(3,3)\n",
    "ll.print_linkedlist()\n",
    "    "
   ]
  },
  {
   "cell_type": "markdown",
   "id": "f3ba3edd",
   "metadata": {},
   "source": [
    "#### Remove value at certain position in Linkelist"
   ]
  },
  {
   "cell_type": "code",
   "execution_count": 69,
   "id": "d948983f",
   "metadata": {},
   "outputs": [
    {
     "name": "stdout",
     "output_type": "stream",
     "text": [
      "Remove at index 4:\n",
      "89 --> 12 --> 11 --> 10 --> 1 --> 2 --> 3 --> \n"
     ]
    }
   ],
   "source": [
    "ll.remove_at(4)\n",
    "ll.print_linkedlist()"
   ]
  },
  {
   "cell_type": "markdown",
   "id": "a2f7f9e8",
   "metadata": {},
   "source": [
    "#### Insert at certain position in Linkedlist"
   ]
  },
  {
   "cell_type": "code",
   "execution_count": 68,
   "id": "dd65dca4",
   "metadata": {
    "scrolled": true
   },
   "outputs": [
    {
     "name": "stdout",
     "output_type": "stream",
     "text": [
      "Insert 89 at index 0:\n",
      "89 --> 12 --> 11 --> 10 --> 3 --> 1 --> 2 --> 3 --> \n"
     ]
    }
   ],
   "source": [
    "ll.insert_at_middle(0,89)\n",
    "ll.print_linkedlist()"
   ]
  },
  {
   "cell_type": "markdown",
   "id": "c6493e3e",
   "metadata": {},
   "source": [
    "#### Insert new value after the given value"
   ]
  },
  {
   "cell_type": "code",
   "execution_count": 73,
   "id": "ac426ec7",
   "metadata": {
    "scrolled": true
   },
   "outputs": [
    {
     "name": "stdout",
     "output_type": "stream",
     "text": [
      "Insert value 76 after the value 11: \n",
      "12 --> 11 --> 76 --> 10 --> \n"
     ]
    }
   ],
   "source": [
    "ll.insert_at_aftervalue(11, 76)\n",
    "ll.print_linkedlist()"
   ]
  },
  {
   "cell_type": "code",
   "execution_count": null,
   "id": "f4a5837c",
   "metadata": {},
   "outputs": [],
   "source": []
  }
 ],
 "metadata": {
  "kernelspec": {
   "display_name": "Python 3 (ipykernel)",
   "language": "python",
   "name": "python3"
  },
  "language_info": {
   "codemirror_mode": {
    "name": "ipython",
    "version": 3
   },
   "file_extension": ".py",
   "mimetype": "text/x-python",
   "name": "python",
   "nbconvert_exporter": "python",
   "pygments_lexer": "ipython3",
   "version": "3.9.7"
  }
 },
 "nbformat": 4,
 "nbformat_minor": 5
}
